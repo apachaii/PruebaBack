{
  "nbformat": 4,
  "nbformat_minor": 0,
  "metadata": {
    "colab": {
      "name": "Tarea_1_Molina_Villagran_1.ipynb",
      "provenance": [],
      "collapsed_sections": [],
      "include_colab_link": true
    },
    "kernelspec": {
      "name": "python3",
      "display_name": "Python 3"
    }
  },
  "cells": [
    {
      "cell_type": "markdown",
      "metadata": {
        "id": "view-in-github",
        "colab_type": "text"
      },
      "source": [
        "<a href=\"https://colab.research.google.com/github/apachaii/PruebaBack/blob/master/Tarea_1_Molina_Villagran_1.ipynb\" target=\"_parent\"><img src=\"https://colab.research.google.com/assets/colab-badge.svg\" alt=\"Open In Colab\"/></a>"
      ]
    },
    {
      "cell_type": "markdown",
      "metadata": {
        "id": "ImHQVBujOAkx",
        "colab_type": "text"
      },
      "source": [
        "**1. Exploración de datos**"
      ]
    },
    {
      "cell_type": "markdown",
      "metadata": {
        "id": "jhR0Qxs5cs-Y",
        "colab_type": "text"
      },
      "source": [
        "## Paso 1:\n",
        "Cargamos la base de datos del set de entrenamiento"
      ]
    },
    {
      "cell_type": "code",
      "metadata": {
        "id": "53Vks7aoc9B5",
        "colab_type": "code",
        "colab": {
          "base_uri": "https://localhost:8080/",
          "height": 85
        },
        "outputId": "850a6440-c668-4cdd-e09a-edb880fa9a6d"
      },
      "source": [
        "!curl -L -o \"train.csv\" \"https://drive.google.com/u/0/uc?id=16aO5cZlYws5RB-eboHbxSjxO-mXQiCvf&export=download\"\n"
      ],
      "execution_count": null,
      "outputs": [
        {
          "output_type": "stream",
          "text": [
            "  % Total    % Received % Xferd  Average Speed   Time    Time     Time  Current\n",
            "                                 Dload  Upload   Total   Spent    Left  Speed\n",
            "100   388    0   388    0     0    395      0 --:--:-- --:--:-- --:--:--   394\n",
            "100 3673k    0 3673k    0     0  2627k      0 --:--:--  0:00:01 --:--:-- 2627k\n"
          ],
          "name": "stdout"
        }
      ]
    },
    {
      "cell_type": "markdown",
      "metadata": {
        "id": "o3hsTds0dUql",
        "colab_type": "text"
      },
      "source": [
        "La base de datos está compuesta por tres columnas, con el **ID del usuario**, el **ID del ítem** (en este caso la imagen con la que interactuó) y el *timestamp*."
      ]
    },
    {
      "cell_type": "markdown",
      "metadata": {
        "id": "y8HRIlLXdt2S",
        "colab_type": "text"
      },
      "source": [
        "## Paso 2:\n",
        "Realizamos la instalación de pyreclab"
      ]
    },
    {
      "cell_type": "code",
      "metadata": {
        "id": "0QSCGcuNdx1m",
        "colab_type": "code",
        "colab": {
          "base_uri": "https://localhost:8080/",
          "height": 122
        },
        "outputId": "01475f42-c6cc-4972-ffab-ec30b459e18d"
      },
      "source": [
        "!pip install pyreclab --upgrade"
      ],
      "execution_count": null,
      "outputs": [
        {
          "output_type": "stream",
          "text": [
            "Collecting pyreclab\n",
            "\u001b[?25l  Downloading https://files.pythonhosted.org/packages/c8/f7/aa90be8c34b7610d90794df95b3b8cb487a1065f0bce638db220b7f41e63/pyreclab-0.1.15-cp36-cp36m-manylinux2010_x86_64.whl (234kB)\n",
            "\r\u001b[K     |█▍                              | 10kB 16.4MB/s eta 0:00:01\r\u001b[K     |██▉                             | 20kB 1.4MB/s eta 0:00:01\r\u001b[K     |████▏                           | 30kB 1.7MB/s eta 0:00:01\r\u001b[K     |█████▋                          | 40kB 1.6MB/s eta 0:00:01\r\u001b[K     |███████                         | 51kB 1.8MB/s eta 0:00:01\r\u001b[K     |████████▍                       | 61kB 2.1MB/s eta 0:00:01\r\u001b[K     |█████████▊                      | 71kB 2.3MB/s eta 0:00:01\r\u001b[K     |███████████▏                    | 81kB 2.5MB/s eta 0:00:01\r\u001b[K     |████████████▋                   | 92kB 2.5MB/s eta 0:00:01\r\u001b[K     |██████████████                  | 102kB 2.6MB/s eta 0:00:01\r\u001b[K     |███████████████▍                | 112kB 2.6MB/s eta 0:00:01\r\u001b[K     |████████████████▊               | 122kB 2.6MB/s eta 0:00:01\r\u001b[K     |██████████████████▏             | 133kB 2.6MB/s eta 0:00:01\r\u001b[K     |███████████████████▌            | 143kB 2.6MB/s eta 0:00:01\r\u001b[K     |█████████████████████           | 153kB 2.6MB/s eta 0:00:01\r\u001b[K     |██████████████████████▍         | 163kB 2.6MB/s eta 0:00:01\r\u001b[K     |███████████████████████▊        | 174kB 2.6MB/s eta 0:00:01\r\u001b[K     |█████████████████████████▏      | 184kB 2.6MB/s eta 0:00:01\r\u001b[K     |██████████████████████████▌     | 194kB 2.6MB/s eta 0:00:01\r\u001b[K     |████████████████████████████    | 204kB 2.6MB/s eta 0:00:01\r\u001b[K     |█████████████████████████████▎  | 215kB 2.6MB/s eta 0:00:01\r\u001b[K     |██████████████████████████████▊ | 225kB 2.6MB/s eta 0:00:01\r\u001b[K     |████████████████████████████████| 235kB 2.6MB/s \n",
            "\u001b[?25hInstalling collected packages: pyreclab\n",
            "Successfully installed pyreclab-0.1.15\n"
          ],
          "name": "stdout"
        }
      ]
    },
    {
      "cell_type": "markdown",
      "metadata": {
        "id": "fzzNdxMgevku",
        "colab_type": "text"
      },
      "source": [
        "##Paso 3:\n",
        "Se importan las  librerías a utilizar"
      ]
    },
    {
      "cell_type": "code",
      "metadata": {
        "id": "kh19kppMe3Dm",
        "colab_type": "code",
        "colab": {
          "base_uri": "https://localhost:8080/",
          "height": 71
        },
        "outputId": "5f7f54c7-225f-4a32-e986-0182a18f0cf4"
      },
      "source": [
        "import pandas as pd\n",
        "import pyreclab\n",
        "import seaborn as sns\n",
        "import numpy as np\n",
        "import scipy.sparse as sparse\n",
        "import matplotlib.pyplot as plt"
      ],
      "execution_count": null,
      "outputs": [
        {
          "output_type": "stream",
          "text": [
            "/usr/local/lib/python3.6/dist-packages/statsmodels/tools/_testing.py:19: FutureWarning: pandas.util.testing is deprecated. Use the functions in the public API at pandas.testing instead.\n",
            "  import pandas.util.testing as tm\n"
          ],
          "name": "stderr"
        }
      ]
    },
    {
      "cell_type": "markdown",
      "metadata": {
        "id": "hawn7Mnne-pu",
        "colab_type": "text"
      },
      "source": [
        "#Paso 4:\n",
        "Análisis exploratorio"
      ]
    },
    {
      "cell_type": "markdown",
      "metadata": {
        "id": "kDVYchR9f70n",
        "colab_type": "text"
      },
      "source": [
        "# **4.1** Creación del data frame"
      ]
    },
    {
      "cell_type": "code",
      "metadata": {
        "id": "HL2UkwqTfCls",
        "colab_type": "code",
        "colab": {
          "base_uri": "https://localhost:8080/",
          "height": 204
        },
        "outputId": "72436256-ca00-429a-8846-2bd92144cc3b"
      },
      "source": [
        "train_file = pd.read_csv('train.csv', header= 0, names=['user_id','item_id','timestamp'])\n",
        "\n",
        "train_file.head()"
      ],
      "execution_count": null,
      "outputs": [
        {
          "output_type": "execute_result",
          "data": {
            "text/html": [
              "<div>\n",
              "<style scoped>\n",
              "    .dataframe tbody tr th:only-of-type {\n",
              "        vertical-align: middle;\n",
              "    }\n",
              "\n",
              "    .dataframe tbody tr th {\n",
              "        vertical-align: top;\n",
              "    }\n",
              "\n",
              "    .dataframe thead th {\n",
              "        text-align: right;\n",
              "    }\n",
              "</style>\n",
              "<table border=\"1\" class=\"dataframe\">\n",
              "  <thead>\n",
              "    <tr style=\"text-align: right;\">\n",
              "      <th></th>\n",
              "      <th>user_id</th>\n",
              "      <th>item_id</th>\n",
              "      <th>timestamp</th>\n",
              "    </tr>\n",
              "  </thead>\n",
              "  <tbody>\n",
              "    <tr>\n",
              "      <th>0</th>\n",
              "      <td>0</td>\n",
              "      <td>e29e422c743a3d39a45c2bf777cc7091</td>\n",
              "      <td>1447833945</td>\n",
              "    </tr>\n",
              "    <tr>\n",
              "      <th>1</th>\n",
              "      <td>1</td>\n",
              "      <td>c0cefffdc4f2cb23c01fdd0257ffc82d</td>\n",
              "      <td>1447931155</td>\n",
              "    </tr>\n",
              "    <tr>\n",
              "      <th>2</th>\n",
              "      <td>2</td>\n",
              "      <td>77a5bb1f382cfa168f53e870bf7dc96b</td>\n",
              "      <td>1447867326</td>\n",
              "    </tr>\n",
              "    <tr>\n",
              "      <th>3</th>\n",
              "      <td>3</td>\n",
              "      <td>a0d92aa0cc44c61ac2c2592e6ed702d2</td>\n",
              "      <td>1447876751</td>\n",
              "    </tr>\n",
              "    <tr>\n",
              "      <th>4</th>\n",
              "      <td>4</td>\n",
              "      <td>664c68013188241c5ad641830e09c55f</td>\n",
              "      <td>1447890664</td>\n",
              "    </tr>\n",
              "  </tbody>\n",
              "</table>\n",
              "</div>"
            ],
            "text/plain": [
              "   user_id                           item_id   timestamp\n",
              "0        0  e29e422c743a3d39a45c2bf777cc7091  1447833945\n",
              "1        1  c0cefffdc4f2cb23c01fdd0257ffc82d  1447931155\n",
              "2        2  77a5bb1f382cfa168f53e870bf7dc96b  1447867326\n",
              "3        3  a0d92aa0cc44c61ac2c2592e6ed702d2  1447876751\n",
              "4        4  664c68013188241c5ad641830e09c55f  1447890664"
            ]
          },
          "metadata": {
            "tags": []
          },
          "execution_count": 5
        }
      ]
    },
    {
      "cell_type": "markdown",
      "metadata": {
        "id": "08kPW39ygDt3",
        "colab_type": "text"
      },
      "source": [
        "# **4.2** Análisis descriptivo"
      ]
    },
    {
      "cell_type": "markdown",
      "metadata": {
        "id": "6jFItLrBrN7x",
        "colab_type": "text"
      },
      "source": [
        "Se visualiza información de la base de datos de entrenamiento."
      ]
    },
    {
      "cell_type": "code",
      "metadata": {
        "id": "1o2o6VJbxEpn",
        "colab_type": "code",
        "colab": {
          "base_uri": "https://localhost:8080/",
          "height": 187
        },
        "outputId": "af5d3260-f5ff-42a0-da1e-cd59f19bc1d7"
      },
      "source": [
        "train_file.info()"
      ],
      "execution_count": null,
      "outputs": [
        {
          "output_type": "stream",
          "text": [
            "<class 'pandas.core.frame.DataFrame'>\n",
            "RangeIndex: 78023 entries, 0 to 78022\n",
            "Data columns (total 3 columns):\n",
            " #   Column     Non-Null Count  Dtype \n",
            "---  ------     --------------  ----- \n",
            " 0   user_id    78023 non-null  int64 \n",
            " 1   item_id    78023 non-null  object\n",
            " 2   timestamp  78023 non-null  int64 \n",
            "dtypes: int64(2), object(1)\n",
            "memory usage: 1.8+ MB\n"
          ],
          "name": "stdout"
        }
      ]
    },
    {
      "cell_type": "markdown",
      "metadata": {
        "id": "jdJKfnOzrdva",
        "colab_type": "text"
      },
      "source": [
        "Se revisan estadígrafos descriptivos para la columna 'user_id' y 'timestamp'"
      ]
    },
    {
      "cell_type": "code",
      "metadata": {
        "id": "3ge_auvpxK-2",
        "colab_type": "code",
        "colab": {
          "base_uri": "https://localhost:8080/",
          "height": 297
        },
        "outputId": "4f45b80b-a4cf-4e30-e612-c8430f0d0715"
      },
      "source": [
        "train_file.describe()"
      ],
      "execution_count": null,
      "outputs": [
        {
          "output_type": "execute_result",
          "data": {
            "text/html": [
              "<div>\n",
              "<style scoped>\n",
              "    .dataframe tbody tr th:only-of-type {\n",
              "        vertical-align: middle;\n",
              "    }\n",
              "\n",
              "    .dataframe tbody tr th {\n",
              "        vertical-align: top;\n",
              "    }\n",
              "\n",
              "    .dataframe thead th {\n",
              "        text-align: right;\n",
              "    }\n",
              "</style>\n",
              "<table border=\"1\" class=\"dataframe\">\n",
              "  <thead>\n",
              "    <tr style=\"text-align: right;\">\n",
              "      <th></th>\n",
              "      <th>user_id</th>\n",
              "      <th>timestamp</th>\n",
              "    </tr>\n",
              "  </thead>\n",
              "  <tbody>\n",
              "    <tr>\n",
              "      <th>count</th>\n",
              "      <td>78023.000000</td>\n",
              "      <td>7.802300e+04</td>\n",
              "    </tr>\n",
              "    <tr>\n",
              "      <th>mean</th>\n",
              "      <td>720.855991</td>\n",
              "      <td>1.447860e+09</td>\n",
              "    </tr>\n",
              "    <tr>\n",
              "      <th>std</th>\n",
              "      <td>443.171653</td>\n",
              "      <td>7.926172e+04</td>\n",
              "    </tr>\n",
              "    <tr>\n",
              "      <th>min</th>\n",
              "      <td>0.000000</td>\n",
              "      <td>1.447730e+09</td>\n",
              "    </tr>\n",
              "    <tr>\n",
              "      <th>25%</th>\n",
              "      <td>334.000000</td>\n",
              "      <td>1.447834e+09</td>\n",
              "    </tr>\n",
              "    <tr>\n",
              "      <th>50%</th>\n",
              "      <td>690.000000</td>\n",
              "      <td>1.447861e+09</td>\n",
              "    </tr>\n",
              "    <tr>\n",
              "      <th>75%</th>\n",
              "      <td>1083.000000</td>\n",
              "      <td>1.447868e+09</td>\n",
              "    </tr>\n",
              "    <tr>\n",
              "      <th>max</th>\n",
              "      <td>1592.000000</td>\n",
              "      <td>1.448112e+09</td>\n",
              "    </tr>\n",
              "  </tbody>\n",
              "</table>\n",
              "</div>"
            ],
            "text/plain": [
              "            user_id     timestamp\n",
              "count  78023.000000  7.802300e+04\n",
              "mean     720.855991  1.447860e+09\n",
              "std      443.171653  7.926172e+04\n",
              "min        0.000000  1.447730e+09\n",
              "25%      334.000000  1.447834e+09\n",
              "50%      690.000000  1.447861e+09\n",
              "75%     1083.000000  1.447868e+09\n",
              "max     1592.000000  1.448112e+09"
            ]
          },
          "metadata": {
            "tags": []
          },
          "execution_count": 7
        }
      ]
    },
    {
      "cell_type": "markdown",
      "metadata": {
        "id": "SrL5OtVEgHYh",
        "colab_type": "text"
      },
      "source": [
        "Análisis de un ID en particular"
      ]
    },
    {
      "cell_type": "code",
      "metadata": {
        "id": "zhSZG4FrgJYi",
        "colab_type": "code",
        "colab": {
          "base_uri": "https://localhost:8080/",
          "height": 1000
        },
        "outputId": "3ce5a541-ce37-4940-bd99-98781da22f08"
      },
      "source": [
        "train_file[train_file['user_id'] == 16]"
      ],
      "execution_count": null,
      "outputs": [
        {
          "output_type": "execute_result",
          "data": {
            "text/html": [
              "<div>\n",
              "<style scoped>\n",
              "    .dataframe tbody tr th:only-of-type {\n",
              "        vertical-align: middle;\n",
              "    }\n",
              "\n",
              "    .dataframe tbody tr th {\n",
              "        vertical-align: top;\n",
              "    }\n",
              "\n",
              "    .dataframe thead th {\n",
              "        text-align: right;\n",
              "    }\n",
              "</style>\n",
              "<table border=\"1\" class=\"dataframe\">\n",
              "  <thead>\n",
              "    <tr style=\"text-align: right;\">\n",
              "      <th></th>\n",
              "      <th>user_id</th>\n",
              "      <th>item_id</th>\n",
              "      <th>timestamp</th>\n",
              "    </tr>\n",
              "  </thead>\n",
              "  <tbody>\n",
              "    <tr>\n",
              "      <th>16</th>\n",
              "      <td>16</td>\n",
              "      <td>b34aff8b88ac8d311eff79bd777e2727</td>\n",
              "      <td>1447836030</td>\n",
              "    </tr>\n",
              "    <tr>\n",
              "      <th>878</th>\n",
              "      <td>16</td>\n",
              "      <td>91eede715b818ebb4df5e6e39e236541</td>\n",
              "      <td>1447836030</td>\n",
              "    </tr>\n",
              "    <tr>\n",
              "      <th>1102</th>\n",
              "      <td>16</td>\n",
              "      <td>7acf3bfdbc2876ac274ff1d738e414db</td>\n",
              "      <td>1447836030</td>\n",
              "    </tr>\n",
              "    <tr>\n",
              "      <th>2568</th>\n",
              "      <td>16</td>\n",
              "      <td>0f9b5d98bbffcdae0fee5dc2b7033aa0</td>\n",
              "      <td>1447836030</td>\n",
              "    </tr>\n",
              "    <tr>\n",
              "      <th>2806</th>\n",
              "      <td>16</td>\n",
              "      <td>9cb6a378b02b2f7e84d57fc5b7c56347</td>\n",
              "      <td>1447836030</td>\n",
              "    </tr>\n",
              "    <tr>\n",
              "      <th>4915</th>\n",
              "      <td>16</td>\n",
              "      <td>b715388fb69126caf917ec928ab1ca9c</td>\n",
              "      <td>1447836030</td>\n",
              "    </tr>\n",
              "    <tr>\n",
              "      <th>8145</th>\n",
              "      <td>16</td>\n",
              "      <td>f87d48a0ef6db1f8a0b6e39ca1f529c6</td>\n",
              "      <td>1447836030</td>\n",
              "    </tr>\n",
              "    <tr>\n",
              "      <th>8386</th>\n",
              "      <td>16</td>\n",
              "      <td>d8344b7b463898969b36fe2cc691da1d</td>\n",
              "      <td>1447836030</td>\n",
              "    </tr>\n",
              "    <tr>\n",
              "      <th>8851</th>\n",
              "      <td>16</td>\n",
              "      <td>7bc424915c59572489f88f625d72c67d</td>\n",
              "      <td>1447836030</td>\n",
              "    </tr>\n",
              "    <tr>\n",
              "      <th>9605</th>\n",
              "      <td>16</td>\n",
              "      <td>cd358d57c7d90ff38f16e4a8c3629872</td>\n",
              "      <td>1447836030</td>\n",
              "    </tr>\n",
              "    <tr>\n",
              "      <th>11538</th>\n",
              "      <td>16</td>\n",
              "      <td>810a1adfa07b024cdca7ed01f974b956</td>\n",
              "      <td>1447836030</td>\n",
              "    </tr>\n",
              "    <tr>\n",
              "      <th>12638</th>\n",
              "      <td>16</td>\n",
              "      <td>a0f4c6280af0374e49e75ea9c5cadf53</td>\n",
              "      <td>1447836030</td>\n",
              "    </tr>\n",
              "    <tr>\n",
              "      <th>14322</th>\n",
              "      <td>16</td>\n",
              "      <td>2a48a3928f06b11ab430335974cf25c3</td>\n",
              "      <td>1447836030</td>\n",
              "    </tr>\n",
              "    <tr>\n",
              "      <th>15128</th>\n",
              "      <td>16</td>\n",
              "      <td>6510e04c6818d105e0de80e4aa7a173b</td>\n",
              "      <td>1447836030</td>\n",
              "    </tr>\n",
              "    <tr>\n",
              "      <th>17212</th>\n",
              "      <td>16</td>\n",
              "      <td>24c2162d4595c780858e6e376f6ea39a</td>\n",
              "      <td>1447836030</td>\n",
              "    </tr>\n",
              "    <tr>\n",
              "      <th>17573</th>\n",
              "      <td>16</td>\n",
              "      <td>251e895b290c19645507ed26b98684ef</td>\n",
              "      <td>1447836030</td>\n",
              "    </tr>\n",
              "    <tr>\n",
              "      <th>17956</th>\n",
              "      <td>16</td>\n",
              "      <td>9c492eef065b50cda27da5aaea8b487a</td>\n",
              "      <td>1447836030</td>\n",
              "    </tr>\n",
              "    <tr>\n",
              "      <th>18755</th>\n",
              "      <td>16</td>\n",
              "      <td>226514f09a3acf01c205471c3946b6ba</td>\n",
              "      <td>1447836030</td>\n",
              "    </tr>\n",
              "    <tr>\n",
              "      <th>19857</th>\n",
              "      <td>16</td>\n",
              "      <td>ef79e8319df4ea2f4719297884277c9e</td>\n",
              "      <td>1447836030</td>\n",
              "    </tr>\n",
              "    <tr>\n",
              "      <th>20631</th>\n",
              "      <td>16</td>\n",
              "      <td>e68157ad70f4d13b4f54c540e2c5c72a</td>\n",
              "      <td>1447836030</td>\n",
              "    </tr>\n",
              "    <tr>\n",
              "      <th>22039</th>\n",
              "      <td>16</td>\n",
              "      <td>51926853745859c2fd95141ee3735e18</td>\n",
              "      <td>1447836030</td>\n",
              "    </tr>\n",
              "    <tr>\n",
              "      <th>22322</th>\n",
              "      <td>16</td>\n",
              "      <td>a0382bcb2ffe413dd8fdef8563cd9001</td>\n",
              "      <td>1447836030</td>\n",
              "    </tr>\n",
              "    <tr>\n",
              "      <th>29503</th>\n",
              "      <td>16</td>\n",
              "      <td>df903cc5ad056a25073baba3214710fe</td>\n",
              "      <td>1447836030</td>\n",
              "    </tr>\n",
              "    <tr>\n",
              "      <th>30735</th>\n",
              "      <td>16</td>\n",
              "      <td>566d31c487c140d20f83fe56247f40cb</td>\n",
              "      <td>1447836030</td>\n",
              "    </tr>\n",
              "    <tr>\n",
              "      <th>30762</th>\n",
              "      <td>16</td>\n",
              "      <td>bd93b3102a245af1650ff6ecd0b7d15b</td>\n",
              "      <td>1447836030</td>\n",
              "    </tr>\n",
              "    <tr>\n",
              "      <th>32764</th>\n",
              "      <td>16</td>\n",
              "      <td>908c1f62ecb62dc90791fb2850e14271</td>\n",
              "      <td>1447836030</td>\n",
              "    </tr>\n",
              "    <tr>\n",
              "      <th>32974</th>\n",
              "      <td>16</td>\n",
              "      <td>d68633582a885b749578fdeb8eab06ae</td>\n",
              "      <td>1447836030</td>\n",
              "    </tr>\n",
              "    <tr>\n",
              "      <th>33879</th>\n",
              "      <td>16</td>\n",
              "      <td>88e00a8b1862f9903aa5b9e619c97573</td>\n",
              "      <td>1447836030</td>\n",
              "    </tr>\n",
              "    <tr>\n",
              "      <th>35336</th>\n",
              "      <td>16</td>\n",
              "      <td>8fa23b74f5cfe4d3583825d010267c4f</td>\n",
              "      <td>1447836030</td>\n",
              "    </tr>\n",
              "    <tr>\n",
              "      <th>40601</th>\n",
              "      <td>16</td>\n",
              "      <td>377a25d0e04f9d8444cd9eca35582042</td>\n",
              "      <td>1447836030</td>\n",
              "    </tr>\n",
              "    <tr>\n",
              "      <th>44377</th>\n",
              "      <td>16</td>\n",
              "      <td>5502d113f329e56b923c652ad44fa070</td>\n",
              "      <td>1447836030</td>\n",
              "    </tr>\n",
              "    <tr>\n",
              "      <th>47723</th>\n",
              "      <td>16</td>\n",
              "      <td>0d05a3136354fce11e91c33eb725ec04</td>\n",
              "      <td>1447836030</td>\n",
              "    </tr>\n",
              "    <tr>\n",
              "      <th>47724</th>\n",
              "      <td>16</td>\n",
              "      <td>68243be24d78b3868197e8d65c39fc30</td>\n",
              "      <td>1447836030</td>\n",
              "    </tr>\n",
              "    <tr>\n",
              "      <th>47743</th>\n",
              "      <td>16</td>\n",
              "      <td>f5ae2a3aca0665a1ab01146dcd53e7f3</td>\n",
              "      <td>1447836030</td>\n",
              "    </tr>\n",
              "    <tr>\n",
              "      <th>49953</th>\n",
              "      <td>16</td>\n",
              "      <td>bcc543760adf7a74ec53b12c1712cb50</td>\n",
              "      <td>1447836030</td>\n",
              "    </tr>\n",
              "    <tr>\n",
              "      <th>50181</th>\n",
              "      <td>16</td>\n",
              "      <td>2adef3619bf3077e02bdd824e3d40ccf</td>\n",
              "      <td>1447836030</td>\n",
              "    </tr>\n",
              "    <tr>\n",
              "      <th>50818</th>\n",
              "      <td>16</td>\n",
              "      <td>7ece679d3be166da1c33260da0d008e9</td>\n",
              "      <td>1447836030</td>\n",
              "    </tr>\n",
              "    <tr>\n",
              "      <th>53055</th>\n",
              "      <td>16</td>\n",
              "      <td>26ab7d741249fcc9ce79b0a05cf146f7</td>\n",
              "      <td>1447836030</td>\n",
              "    </tr>\n",
              "    <tr>\n",
              "      <th>55783</th>\n",
              "      <td>16</td>\n",
              "      <td>5dc5ffb6a0bd516a05a0c6db7ad72806</td>\n",
              "      <td>1447836030</td>\n",
              "    </tr>\n",
              "    <tr>\n",
              "      <th>56048</th>\n",
              "      <td>16</td>\n",
              "      <td>16ed4d09d82c7b2c9828df46aa8558e5</td>\n",
              "      <td>1447836030</td>\n",
              "    </tr>\n",
              "    <tr>\n",
              "      <th>57010</th>\n",
              "      <td>16</td>\n",
              "      <td>3ffb3e2a5c8250a3c2c5ce3befb45b1c</td>\n",
              "      <td>1447836030</td>\n",
              "    </tr>\n",
              "    <tr>\n",
              "      <th>57823</th>\n",
              "      <td>16</td>\n",
              "      <td>8d5f4997a403ed22880b87579a890c88</td>\n",
              "      <td>1447836030</td>\n",
              "    </tr>\n",
              "    <tr>\n",
              "      <th>58564</th>\n",
              "      <td>16</td>\n",
              "      <td>7a215c50d6033ac075b5680385830510</td>\n",
              "      <td>1447836030</td>\n",
              "    </tr>\n",
              "    <tr>\n",
              "      <th>60351</th>\n",
              "      <td>16</td>\n",
              "      <td>0cb96fa7b4ed39729720f1cf11dd4d6b</td>\n",
              "      <td>1447836030</td>\n",
              "    </tr>\n",
              "    <tr>\n",
              "      <th>61868</th>\n",
              "      <td>16</td>\n",
              "      <td>cf9957fe2f4b1247b83eae67d134dab8</td>\n",
              "      <td>1447836030</td>\n",
              "    </tr>\n",
              "    <tr>\n",
              "      <th>63782</th>\n",
              "      <td>16</td>\n",
              "      <td>c85cffafdc943da4e7ebfd0bff69c225</td>\n",
              "      <td>1447836030</td>\n",
              "    </tr>\n",
              "    <tr>\n",
              "      <th>64002</th>\n",
              "      <td>16</td>\n",
              "      <td>309773b5c23d6acca62d9ab76535050d</td>\n",
              "      <td>1447836030</td>\n",
              "    </tr>\n",
              "    <tr>\n",
              "      <th>65680</th>\n",
              "      <td>16</td>\n",
              "      <td>47f058ce1baadfab0dfcd497844c3a6a</td>\n",
              "      <td>1447836030</td>\n",
              "    </tr>\n",
              "    <tr>\n",
              "      <th>67845</th>\n",
              "      <td>16</td>\n",
              "      <td>1a7e977667045dc04a91882c67692f21</td>\n",
              "      <td>1447836030</td>\n",
              "    </tr>\n",
              "    <tr>\n",
              "      <th>72791</th>\n",
              "      <td>16</td>\n",
              "      <td>969244be02b5350a1eecf40161e87f30</td>\n",
              "      <td>1447836030</td>\n",
              "    </tr>\n",
              "  </tbody>\n",
              "</table>\n",
              "</div>"
            ],
            "text/plain": [
              "       user_id                           item_id   timestamp\n",
              "16          16  b34aff8b88ac8d311eff79bd777e2727  1447836030\n",
              "878         16  91eede715b818ebb4df5e6e39e236541  1447836030\n",
              "1102        16  7acf3bfdbc2876ac274ff1d738e414db  1447836030\n",
              "2568        16  0f9b5d98bbffcdae0fee5dc2b7033aa0  1447836030\n",
              "2806        16  9cb6a378b02b2f7e84d57fc5b7c56347  1447836030\n",
              "4915        16  b715388fb69126caf917ec928ab1ca9c  1447836030\n",
              "8145        16  f87d48a0ef6db1f8a0b6e39ca1f529c6  1447836030\n",
              "8386        16  d8344b7b463898969b36fe2cc691da1d  1447836030\n",
              "8851        16  7bc424915c59572489f88f625d72c67d  1447836030\n",
              "9605        16  cd358d57c7d90ff38f16e4a8c3629872  1447836030\n",
              "11538       16  810a1adfa07b024cdca7ed01f974b956  1447836030\n",
              "12638       16  a0f4c6280af0374e49e75ea9c5cadf53  1447836030\n",
              "14322       16  2a48a3928f06b11ab430335974cf25c3  1447836030\n",
              "15128       16  6510e04c6818d105e0de80e4aa7a173b  1447836030\n",
              "17212       16  24c2162d4595c780858e6e376f6ea39a  1447836030\n",
              "17573       16  251e895b290c19645507ed26b98684ef  1447836030\n",
              "17956       16  9c492eef065b50cda27da5aaea8b487a  1447836030\n",
              "18755       16  226514f09a3acf01c205471c3946b6ba  1447836030\n",
              "19857       16  ef79e8319df4ea2f4719297884277c9e  1447836030\n",
              "20631       16  e68157ad70f4d13b4f54c540e2c5c72a  1447836030\n",
              "22039       16  51926853745859c2fd95141ee3735e18  1447836030\n",
              "22322       16  a0382bcb2ffe413dd8fdef8563cd9001  1447836030\n",
              "29503       16  df903cc5ad056a25073baba3214710fe  1447836030\n",
              "30735       16  566d31c487c140d20f83fe56247f40cb  1447836030\n",
              "30762       16  bd93b3102a245af1650ff6ecd0b7d15b  1447836030\n",
              "32764       16  908c1f62ecb62dc90791fb2850e14271  1447836030\n",
              "32974       16  d68633582a885b749578fdeb8eab06ae  1447836030\n",
              "33879       16  88e00a8b1862f9903aa5b9e619c97573  1447836030\n",
              "35336       16  8fa23b74f5cfe4d3583825d010267c4f  1447836030\n",
              "40601       16  377a25d0e04f9d8444cd9eca35582042  1447836030\n",
              "44377       16  5502d113f329e56b923c652ad44fa070  1447836030\n",
              "47723       16  0d05a3136354fce11e91c33eb725ec04  1447836030\n",
              "47724       16  68243be24d78b3868197e8d65c39fc30  1447836030\n",
              "47743       16  f5ae2a3aca0665a1ab01146dcd53e7f3  1447836030\n",
              "49953       16  bcc543760adf7a74ec53b12c1712cb50  1447836030\n",
              "50181       16  2adef3619bf3077e02bdd824e3d40ccf  1447836030\n",
              "50818       16  7ece679d3be166da1c33260da0d008e9  1447836030\n",
              "53055       16  26ab7d741249fcc9ce79b0a05cf146f7  1447836030\n",
              "55783       16  5dc5ffb6a0bd516a05a0c6db7ad72806  1447836030\n",
              "56048       16  16ed4d09d82c7b2c9828df46aa8558e5  1447836030\n",
              "57010       16  3ffb3e2a5c8250a3c2c5ce3befb45b1c  1447836030\n",
              "57823       16  8d5f4997a403ed22880b87579a890c88  1447836030\n",
              "58564       16  7a215c50d6033ac075b5680385830510  1447836030\n",
              "60351       16  0cb96fa7b4ed39729720f1cf11dd4d6b  1447836030\n",
              "61868       16  cf9957fe2f4b1247b83eae67d134dab8  1447836030\n",
              "63782       16  c85cffafdc943da4e7ebfd0bff69c225  1447836030\n",
              "64002       16  309773b5c23d6acca62d9ab76535050d  1447836030\n",
              "65680       16  47f058ce1baadfab0dfcd497844c3a6a  1447836030\n",
              "67845       16  1a7e977667045dc04a91882c67692f21  1447836030\n",
              "72791       16  969244be02b5350a1eecf40161e87f30  1447836030"
            ]
          },
          "metadata": {
            "tags": []
          },
          "execution_count": 8
        }
      ]
    },
    {
      "cell_type": "markdown",
      "metadata": {
        "id": "BuyHUAsVgSXI",
        "colab_type": "text"
      },
      "source": [
        "# **4.3** Gráfico de distribución y top 5"
      ]
    },
    {
      "cell_type": "markdown",
      "metadata": {
        "id": "EJOodyGQjBd-",
        "colab_type": "text"
      },
      "source": [
        "Cálculo de número de interacciones por usuario"
      ]
    },
    {
      "cell_type": "code",
      "metadata": {
        "id": "LJOQbScQ07xY",
        "colab_type": "code",
        "colab": {
          "base_uri": "https://localhost:8080/",
          "height": 255
        },
        "outputId": "20f2804b-41f4-4dd1-9744-10b357fecd9c"
      },
      "source": [
        "train_file['user_id'] = train_file['user_id'].astype(str)\n",
        "user_groups = train_file.groupby('user_id', as_index=False).count()\n",
        "new_user_groups =user_groups.rename(columns = {\"item_id\": \"interaction_count\"})\n",
        "user_groups_count = new_user_groups.groupby('interaction_count', as_index=False).count()\n",
        "new_user_groups_count = user_groups_count.rename(columns = {\"user_id\": \"user_count\"})\n",
        "user_groups_count_sort = new_user_groups_count.sort_values(by = ['interaction_count'], ascending=False)\n",
        "print(user_groups_count_sort)"
      ],
      "execution_count": null,
      "outputs": [
        {
          "output_type": "stream",
          "text": [
            "     interaction_count  user_count  timestamp\n",
            "106                152           1          1\n",
            "105                133           1          1\n",
            "104                128           1          1\n",
            "103                122           2          2\n",
            "102                121           1          1\n",
            "..                 ...         ...        ...\n",
            "4                   20          13         13\n",
            "3                   19           8          8\n",
            "2                   18           2          2\n",
            "1                   17           3          3\n",
            "0                   16           1          1\n",
            "\n",
            "[107 rows x 3 columns]\n"
          ],
          "name": "stdout"
        }
      ]
    },
    {
      "cell_type": "markdown",
      "metadata": {
        "id": "0TxvXNVaAAlh",
        "colab_type": "text"
      },
      "source": [
        "**Figura 1.** Gráfico de distribución de usuarios por número de interacciones\n"
      ]
    },
    {
      "cell_type": "code",
      "metadata": {
        "id": "mFy5pN8nAFxr",
        "colab_type": "code",
        "colab": {
          "base_uri": "https://localhost:8080/",
          "height": 559
        },
        "outputId": "b14c28d0-e009-4841-c5cf-e0eab46eaea8"
      },
      "source": [
        "bar1 = plt.bar(user_groups_count_sort['interaction_count'], user_groups_count_sort['user_count'], width=1)\n",
        "plt.title(\"Distribución de usuarios con número de interacciones\", fontsize=25)\n",
        "plt.rcParams['figure.figsize'] = [30, 10]\n",
        "plt.xlabel(\"Número de interacciones\", fontsize=25)\n",
        "plt.ylabel(\"Número de usuarios\", fontsize=25)\n",
        "eje_y = user_groups_count_sort['user_count'].to_list()\n",
        "plt.show()\n",
        "\n",
        "\n"
      ],
      "execution_count": null,
      "outputs": [
        {
          "output_type": "display_data",
          "data": {
            "image/png": "[encoded data removed]",
            "text/plain": [
              "<Figure size 2160x720 with 1 Axes>"
            ]
          },
          "metadata": {
            "tags": [],
            "needs_background": "light"
          }
        }
      ]
    },
    {
      "cell_type": "markdown",
      "metadata": {
        "id": "CjvEU9Z8qt78",
        "colab_type": "text"
      },
      "source": [
        "Se visualiza en la **Figura 1** una distribución *long tail*, donde se destaca un gran número de usuarios que tienen aproximadamente 30 ineracciones y luego la curva decae debido a un menor número de usuarios interactuando más. "
      ]
    },
    {
      "cell_type": "markdown",
      "metadata": {
        "id": "aZ01CU_TddSC",
        "colab_type": "text"
      },
      "source": [
        "Cálculo de los 5 usuarios con más interacciones "
      ]
    },
    {
      "cell_type": "code",
      "metadata": {
        "id": "HA97iRsZdjQu",
        "colab_type": "code",
        "colab": {
          "base_uri": "https://localhost:8080/",
          "height": 119
        },
        "outputId": "b6d66bb5-5094-4a11-9246-fb29941dfbc0"
      },
      "source": [
        "user_top_5 = new_user_groups.nlargest(5,'interaction_count', keep='all')\n",
        "print(user_top_5)"
      ],
      "execution_count": null,
      "outputs": [
        {
          "output_type": "stream",
          "text": [
            "     user_id  interaction_count  timestamp\n",
            "1112     566                152        152\n",
            "873      350                133        133\n",
            "36       103                128        128\n",
            "10      1006                122        122\n",
            "491      144                122        122\n"
          ],
          "name": "stdout"
        }
      ]
    },
    {
      "cell_type": "markdown",
      "metadata": {
        "id": "wORBmeYj_jbA",
        "colab_type": "text"
      },
      "source": [
        "**Figura 2** Cinco usuarios con mayor número de interacciones"
      ]
    },
    {
      "cell_type": "code",
      "metadata": {
        "id": "xdGQNWPL_ldi",
        "colab_type": "code",
        "colab": {
          "base_uri": "https://localhost:8080/",
          "height": 512
        },
        "outputId": "aa6dca05-2222-4a3b-dfac-b1454e12cbb7"
      },
      "source": [
        "height = (user_top_5['interaction_count'])\n",
        "bars = (user_top_5['user_id'])\n",
        "bar1= plt.bar(bars, height)\n",
        "plt.title(\"Número de interacciones según los cinco usuarios con más interacciones\", fontsize=25)\n",
        "plt.xlabel(\"ID de usuarios\", fontsize=25)\n",
        "plt.ylabel(\"Número de interacciones\", fontsize=25)\n",
        "eje_y = user_top_5['interaction_count'].to_list()\n",
        "total = len(train_file)\n",
        "for i in range(len(bar1)):\n",
        "    barra = bar1[i]\n",
        "    value = eje_y[i]\n",
        "    height = barra.get_height()\n",
        "    porcentaje = (value)/(total)\n",
        "    plt.annotate(\"{:.3%}\".format(porcentaje), \n",
        "                 xy=(barra.get_x() + barra.get_width() / 2, height), \n",
        "                 xytext=(barra.get_x(),barra.get_y()),\n",
        "                 textcoords=\"offset points\",\n",
        "                 ha='center', va='bottom', fontsize=25) \n",
        "\n",
        "plt.tight_layout()\n",
        "plt.show()\n",
        "\n"
      ],
      "execution_count": null,
      "outputs": [
        {
          "output_type": "display_data",
          "data": {
            "image/png": "[encoded data removed]",
            "text/plain": [
              "<Figure size 2160x720 with 1 Axes>"
            ]
          },
          "metadata": {
            "tags": [],
            "needs_background": "light"
          }
        }
      ]
    },
    {
      "cell_type": "markdown",
      "metadata": {
        "id": "gLLjs3hIH2SK",
        "colab_type": "text"
      },
      "source": [
        "Observamos en la **Figura 2** que los usuarios con mayor número de interacciones están alrrededor de las 140 interacciones, con el usuario ID 566 liderando y sobrepasando esta barrera. "
      ]
    },
    {
      "cell_type": "markdown",
      "metadata": {
        "id": "_2ssYnFBwFHI",
        "colab_type": "text"
      },
      "source": [
        "Cálculo de número de interacciones por ítem (imágenes)"
      ]
    },
    {
      "cell_type": "code",
      "metadata": {
        "id": "ImuRdAQVwIPk",
        "colab_type": "code",
        "colab": {
          "base_uri": "https://localhost:8080/",
          "height": 153
        },
        "outputId": "26e8cbd8-2296-4859-e540-a60d344dedb5"
      },
      "source": [
        "train_file['item_id'] = train_file['item_id'].astype(str)\n",
        "item_groups = train_file.groupby('item_id', as_index=False).count()\n",
        "new_item_groups =item_groups.rename(columns = {\"user_id\": \"interaction_count\"})\n",
        "item_groups_count = new_item_groups.groupby('interaction_count', as_index=False).count()\n",
        "new_item_groups_count = item_groups_count.rename(columns = {\"item_id\": \"item_count\"})\n",
        "item_groups_count_sort = new_item_groups_count.sort_values(by = ['interaction_count'], ascending=False)\n",
        "print(item_groups_count_sort)"
      ],
      "execution_count": null,
      "outputs": [
        {
          "output_type": "stream",
          "text": [
            "   interaction_count  item_count  timestamp\n",
            "6                  7           8          8\n",
            "5                  6          10         10\n",
            "4                  5          45         45\n",
            "3                  4         127        127\n",
            "2                  3         738        738\n",
            "1                  2        4861       4861\n",
            "0                  1       65238      65238\n"
          ],
          "name": "stdout"
        }
      ]
    },
    {
      "cell_type": "markdown",
      "metadata": {
        "id": "ZzLgizHC-O_9",
        "colab_type": "text"
      },
      "source": [
        "**Figura 3.** Gráfico de distribución de ítems por número de interacciones\n",
        "\n"
      ]
    },
    {
      "cell_type": "code",
      "metadata": {
        "id": "63V6f9hkhiBV",
        "colab_type": "code",
        "colab": {
          "base_uri": "https://localhost:8080/",
          "height": 512
        },
        "outputId": "5e17e663-c07e-4131-a2d5-fb5eb2837bb4"
      },
      "source": [
        "bar1 = plt.bar(item_groups_count_sort['interaction_count'], item_groups_count_sort['item_count'], width=1)\n",
        "eje_y = item_groups_count_sort['item_count'].to_list()\n",
        "total = len(train_file)\n",
        "plt.title(\"Distribución de items con número de interacciones\", fontsize=25)\n",
        "plt.rcParams['figure.figsize'] = [30, 10]\n",
        "plt.xlabel(\"Número de interacciones\", fontsize=25)\n",
        "plt.ylabel(\"Número de items\", fontsize=25)\n",
        "for i in range(len(bar1)):\n",
        "    barra = bar1[i]\n",
        "    value = eje_y[i]\n",
        "    height = barra.get_height()\n",
        "    porcentaje = (value)/(total)\n",
        "    plt.annotate(\"{:.3%}\".format(porcentaje), \n",
        "                 xy=(barra.get_x() + barra.get_width() / 2, height), \n",
        "                 xytext=(barra.get_x(),barra.get_y()),\n",
        "                 textcoords=\"offset points\",\n",
        "                 ha='center', va='bottom', fontsize=25) \n",
        "\n",
        "plt.tight_layout()\n",
        "plt.show()\n",
        "\n"
      ],
      "execution_count": null,
      "outputs": [
        {
          "output_type": "display_data",
          "data": {
            "image/png": "[encoded data removed]",
            "text/plain": [
              "<Figure size 2160x720 with 1 Axes>"
            ]
          },
          "metadata": {
            "tags": [],
            "needs_background": "light"
          }
        }
      ]
    },
    {
      "cell_type": "markdown",
      "metadata": {
        "id": "g38QuyJPtyb7",
        "colab_type": "text"
      },
      "source": [
        "En la **Figura 3** observamos que el 83,6% de los items interactúa solo 1 vez con un usuario. Esto se puede deber a la naturaleza de los ítems, en este caso imágenes las cuales son generalmente de consulta única y esto se ve representado en el gráfico de distribución que es de tipo *long tail*."
      ]
    },
    {
      "cell_type": "markdown",
      "metadata": {
        "id": "c2x2EgelFZla",
        "colab_type": "text"
      },
      "source": [
        "Cálculo de los 5 ítems con más interacciones"
      ]
    },
    {
      "cell_type": "code",
      "metadata": {
        "id": "zSZ58arBFenz",
        "colab_type": "code",
        "colab": {
          "base_uri": "https://localhost:8080/",
          "height": 170
        },
        "outputId": "3e3ad975-bd83-4b06-e689-1a7a24bd1ea9"
      },
      "source": [
        "item_top_5 = new_item_groups.nlargest(5,'interaction_count', keep='all')\n",
        "print(item_top_5)"
      ],
      "execution_count": null,
      "outputs": [
        {
          "output_type": "stream",
          "text": [
            "                                item_id  interaction_count  timestamp\n",
            "7337   1a92746ae6815bbba2770a8ee29ee69d                  7          7\n",
            "39252  8ef38896d10d839ae2d409b352e20c8a                  7          7\n",
            "40400  93337d8e93914cc8fe2a2486b2d74ee4                  7          7\n",
            "41419  96b4d174650edf3f1bdf0bfa12d75dd3                  7          7\n",
            "58474  d526333a98d58328d47265a4e067323f                  7          7\n",
            "62277  e2f366ef70185c50be8df2e1ccd3fc56                  7          7\n",
            "65483  ee4f79c0209898b80839534b97c36eaf                  7          7\n",
            "68777  f9514478a48522018a1fe464c4baf8a7                  7          7\n"
          ],
          "name": "stdout"
        }
      ]
    },
    {
      "cell_type": "markdown",
      "metadata": {
        "id": "4RFAko1HFvBD",
        "colab_type": "text"
      },
      "source": [
        "**Figura 4** Cinco usuarios con mayor número de interacciones"
      ]
    },
    {
      "cell_type": "code",
      "metadata": {
        "id": "MAjRHZ5GFyQt",
        "colab_type": "code",
        "colab": {
          "base_uri": "https://localhost:8080/",
          "height": 512
        },
        "outputId": "c1e5d0ff-de31-4c2b-c585-254e1212c2ba"
      },
      "source": [
        "height =(item_top_5['interaction_count'])\n",
        "bars = (item_top_5['item_id'])\n",
        "bar1 = plt.bar(bars, height)\n",
        "plt.title(\"Número de interacciones según los usuarios con más interacciones\", fontsize=25)\n",
        "plt.xlabel(\"ID de ítems\", fontsize=25)\n",
        "plt.ylabel(\"Número de interacciones\", fontsize=25)\n",
        "eje_y = item_top_5['interaction_count'].to_list()\n",
        "total = len(train_file)\n",
        "for i in range(len(bar1)):\n",
        "    barra = bar1[i]\n",
        "    value = eje_y[i]\n",
        "    height = barra.get_height()\n",
        "    porcentaje = (value)/(total)\n",
        "    plt.annotate(\"{:.3%}\".format(porcentaje), \n",
        "                 xy=(barra.get_x() + barra.get_width() / 2, height), \n",
        "                 xytext=(barra.get_x(),barra.get_y()),\n",
        "                 textcoords=\"offset points\",\n",
        "                 ha='center', va='bottom', fontsize=25) \n",
        "\n",
        "plt.tight_layout()\n",
        "plt.show()"
      ],
      "execution_count": null,
      "outputs": [
        {
          "output_type": "display_data",
          "data": {
            "image/png": "[encoded data removed]",
            "text/plain": [
              "<Figure size 2160x720 with 1 Axes>"
            ]
          },
          "metadata": {
            "tags": [],
            "needs_background": "light"
          }
        }
      ]
    },
    {
      "cell_type": "markdown",
      "metadata": {
        "id": "EZCD36EiHr62",
        "colab_type": "text"
      },
      "source": [
        "Como se visualiza en la **Figura 4** existen 8 imágenes con el mayor número de interacciones (7), éstas representan un porcentaje muy bajo (0,009%) del número de interacciones totales contenidas en esta base de datos. "
      ]
    },
    {
      "cell_type": "markdown",
      "metadata": {
        "id": "aCUl4noHyDmQ",
        "colab_type": "text"
      },
      "source": [
        "# **4.4** Análisis descriptivo y cálculo de densidad"
      ]
    },
    {
      "cell_type": "markdown",
      "metadata": {
        "id": "ySNO3X_Vp8x7",
        "colab_type": "text"
      },
      "source": [
        "Análisis descriptivo por usuarios:"
      ]
    },
    {
      "cell_type": "code",
      "metadata": {
        "id": "sGfiJcy3r6iM",
        "colab_type": "code",
        "colab": {
          "base_uri": "https://localhost:8080/",
          "height": 297
        },
        "outputId": "7681a02d-cca4-4225-e3e6-86e4edf129bc"
      },
      "source": [
        "user_groups.describe()"
      ],
      "execution_count": null,
      "outputs": [
        {
          "output_type": "execute_result",
          "data": {
            "text/html": [
              "<div>\n",
              "<style scoped>\n",
              "    .dataframe tbody tr th:only-of-type {\n",
              "        vertical-align: middle;\n",
              "    }\n",
              "\n",
              "    .dataframe tbody tr th {\n",
              "        vertical-align: top;\n",
              "    }\n",
              "\n",
              "    .dataframe thead th {\n",
              "        text-align: right;\n",
              "    }\n",
              "</style>\n",
              "<table border=\"1\" class=\"dataframe\">\n",
              "  <thead>\n",
              "    <tr style=\"text-align: right;\">\n",
              "      <th></th>\n",
              "      <th>item_id</th>\n",
              "      <th>timestamp</th>\n",
              "    </tr>\n",
              "  </thead>\n",
              "  <tbody>\n",
              "    <tr>\n",
              "      <th>count</th>\n",
              "      <td>1593.000000</td>\n",
              "      <td>1593.000000</td>\n",
              "    </tr>\n",
              "    <tr>\n",
              "      <th>mean</th>\n",
              "      <td>48.978657</td>\n",
              "      <td>48.978657</td>\n",
              "    </tr>\n",
              "    <tr>\n",
              "      <th>std</th>\n",
              "      <td>22.876543</td>\n",
              "      <td>22.876543</td>\n",
              "    </tr>\n",
              "    <tr>\n",
              "      <th>min</th>\n",
              "      <td>16.000000</td>\n",
              "      <td>16.000000</td>\n",
              "    </tr>\n",
              "    <tr>\n",
              "      <th>25%</th>\n",
              "      <td>30.000000</td>\n",
              "      <td>30.000000</td>\n",
              "    </tr>\n",
              "    <tr>\n",
              "      <th>50%</th>\n",
              "      <td>43.000000</td>\n",
              "      <td>43.000000</td>\n",
              "    </tr>\n",
              "    <tr>\n",
              "      <th>75%</th>\n",
              "      <td>64.000000</td>\n",
              "      <td>64.000000</td>\n",
              "    </tr>\n",
              "    <tr>\n",
              "      <th>max</th>\n",
              "      <td>152.000000</td>\n",
              "      <td>152.000000</td>\n",
              "    </tr>\n",
              "  </tbody>\n",
              "</table>\n",
              "</div>"
            ],
            "text/plain": [
              "           item_id    timestamp\n",
              "count  1593.000000  1593.000000\n",
              "mean     48.978657    48.978657\n",
              "std      22.876543    22.876543\n",
              "min      16.000000    16.000000\n",
              "25%      30.000000    30.000000\n",
              "50%      43.000000    43.000000\n",
              "75%      64.000000    64.000000\n",
              "max     152.000000   152.000000"
            ]
          },
          "metadata": {
            "tags": []
          },
          "execution_count": 35
        }
      ]
    },
    {
      "cell_type": "markdown",
      "metadata": {
        "id": "O2gDnakMr3np",
        "colab_type": "text"
      },
      "source": [
        "Análisis descriptivo por ítems:"
      ]
    },
    {
      "cell_type": "code",
      "metadata": {
        "id": "DazIbL4Fp78f",
        "colab_type": "code",
        "colab": {
          "base_uri": "https://localhost:8080/",
          "height": 297
        },
        "outputId": "8c46e335-9d7b-4597-efc9-38eebb531675"
      },
      "source": [
        "item_groups.describe()"
      ],
      "execution_count": null,
      "outputs": [
        {
          "output_type": "execute_result",
          "data": {
            "text/html": [
              "<div>\n",
              "<style scoped>\n",
              "    .dataframe tbody tr th:only-of-type {\n",
              "        vertical-align: middle;\n",
              "    }\n",
              "\n",
              "    .dataframe tbody tr th {\n",
              "        vertical-align: top;\n",
              "    }\n",
              "\n",
              "    .dataframe thead th {\n",
              "        text-align: right;\n",
              "    }\n",
              "</style>\n",
              "<table border=\"1\" class=\"dataframe\">\n",
              "  <thead>\n",
              "    <tr style=\"text-align: right;\">\n",
              "      <th></th>\n",
              "      <th>user_id</th>\n",
              "      <th>timestamp</th>\n",
              "    </tr>\n",
              "  </thead>\n",
              "  <tbody>\n",
              "    <tr>\n",
              "      <th>count</th>\n",
              "      <td>71027.000000</td>\n",
              "      <td>71027.000000</td>\n",
              "    </tr>\n",
              "    <tr>\n",
              "      <th>mean</th>\n",
              "      <td>1.098498</td>\n",
              "      <td>1.098498</td>\n",
              "    </tr>\n",
              "    <tr>\n",
              "      <th>std</th>\n",
              "      <td>0.366203</td>\n",
              "      <td>0.366203</td>\n",
              "    </tr>\n",
              "    <tr>\n",
              "      <th>min</th>\n",
              "      <td>1.000000</td>\n",
              "      <td>1.000000</td>\n",
              "    </tr>\n",
              "    <tr>\n",
              "      <th>25%</th>\n",
              "      <td>1.000000</td>\n",
              "      <td>1.000000</td>\n",
              "    </tr>\n",
              "    <tr>\n",
              "      <th>50%</th>\n",
              "      <td>1.000000</td>\n",
              "      <td>1.000000</td>\n",
              "    </tr>\n",
              "    <tr>\n",
              "      <th>75%</th>\n",
              "      <td>1.000000</td>\n",
              "      <td>1.000000</td>\n",
              "    </tr>\n",
              "    <tr>\n",
              "      <th>max</th>\n",
              "      <td>7.000000</td>\n",
              "      <td>7.000000</td>\n",
              "    </tr>\n",
              "  </tbody>\n",
              "</table>\n",
              "</div>"
            ],
            "text/plain": [
              "            user_id     timestamp\n",
              "count  71027.000000  71027.000000\n",
              "mean       1.098498      1.098498\n",
              "std        0.366203      0.366203\n",
              "min        1.000000      1.000000\n",
              "25%        1.000000      1.000000\n",
              "50%        1.000000      1.000000\n",
              "75%        1.000000      1.000000\n",
              "max        7.000000      7.000000"
            ]
          },
          "metadata": {
            "tags": []
          },
          "execution_count": 34
        }
      ]
    },
    {
      "cell_type": "markdown",
      "metadata": {
        "id": "YgI5TMvVuFuk",
        "colab_type": "text"
      },
      "source": [
        "Cálculo de la densidad del dataset"
      ]
    },
    {
      "cell_type": "code",
      "metadata": {
        "id": "UysFOqt-uIbc",
        "colab_type": "code",
        "colab": {
          "base_uri": "https://localhost:8080/",
          "height": 34
        },
        "outputId": "6ce52334-d217-4767-aca0-052d0efad417"
      },
      "source": [
        "sparcity = (1-(len(train_file)/((len(user_groups['item_id']))*(len(item_groups['user_id'])))))*100\n",
        "print(sparcity)"
      ],
      "execution_count": null,
      "outputs": [
        {
          "output_type": "stream",
          "text": [
            "99.93104219997645\n"
          ],
          "name": "stdout"
        }
      ]
    }
  ]
}